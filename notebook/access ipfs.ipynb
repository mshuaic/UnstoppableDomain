{
 "cells": [
  {
   "cell_type": "code",
   "execution_count": 3,
   "id": "c0c2d24f",
   "metadata": {},
   "outputs": [
    {
     "ename": "VersionMismatch",
     "evalue": "Unsupported daemon version '0.12.2' (not in range: 0.4.23 ≤ … < 0.8.0)",
     "output_type": "error",
     "traceback": [
      "\u001b[0;31m---------------------------------------------------------------------------\u001b[0m",
      "\u001b[0;31mVersionMismatch\u001b[0m                           Traceback (most recent call last)",
      "Input \u001b[0;32mIn [3]\u001b[0m, in \u001b[0;36m<cell line: 2>\u001b[0;34m()\u001b[0m\n\u001b[1;32m      1\u001b[0m \u001b[38;5;28;01mimport\u001b[39;00m \u001b[38;5;21;01mipfshttpclient\u001b[39;00m\n\u001b[0;32m----> 2\u001b[0m client \u001b[38;5;241m=\u001b[39m \u001b[43mipfshttpclient\u001b[49m\u001b[38;5;241;43m.\u001b[39;49m\u001b[43mconnect\u001b[49m\u001b[43m(\u001b[49m\u001b[43m)\u001b[49m\n",
      "File \u001b[0;32m~/.pyenv/versions/3.9.7/envs/web3/lib/python3.9/site-packages/ipfshttpclient/client/__init__.py:119\u001b[0m, in \u001b[0;36mconnect\u001b[0;34m(addr, base, chunk_size, offline, session, auth, cookies, headers, timeout, username, password)\u001b[0m\n\u001b[1;32m    111\u001b[0m client \u001b[38;5;241m=\u001b[39m Client(\n\u001b[1;32m    112\u001b[0m \taddr, base,\n\u001b[1;32m    113\u001b[0m \tchunk_size\u001b[38;5;241m=\u001b[39mchunk_size, offline\u001b[38;5;241m=\u001b[39moffline, session\u001b[38;5;241m=\u001b[39msession,\n\u001b[1;32m    114\u001b[0m \tauth\u001b[38;5;241m=\u001b[39mauth, cookies\u001b[38;5;241m=\u001b[39mcookies, headers\u001b[38;5;241m=\u001b[39mheaders, timeout\u001b[38;5;241m=\u001b[39mtimeout,\n\u001b[1;32m    115\u001b[0m \tusername\u001b[38;5;241m=\u001b[39musername, password\u001b[38;5;241m=\u001b[39mpassword,\n\u001b[1;32m    116\u001b[0m )\n\u001b[1;32m    118\u001b[0m \u001b[38;5;66;03m# Query version number from daemon and validate it\u001b[39;00m\n\u001b[0;32m--> 119\u001b[0m \u001b[43massert_version\u001b[49m\u001b[43m(\u001b[49m\u001b[43mclient\u001b[49m\u001b[38;5;241;43m.\u001b[39;49m\u001b[43mapply_workarounds\u001b[49m\u001b[43m(\u001b[49m\u001b[43m)\u001b[49m\u001b[43m[\u001b[49m\u001b[38;5;124;43m\"\u001b[39;49m\u001b[38;5;124;43mVersion\u001b[39;49m\u001b[38;5;124;43m\"\u001b[39;49m\u001b[43m]\u001b[49m\u001b[43m)\u001b[49m\n\u001b[1;32m    121\u001b[0m \u001b[38;5;28;01mreturn\u001b[39;00m client\n",
      "File \u001b[0;32m~/.pyenv/versions/3.9.7/envs/web3/lib/python3.9/site-packages/ipfshttpclient/client/__init__.py:69\u001b[0m, in \u001b[0;36massert_version\u001b[0;34m(version, minimum, maximum, blacklist)\u001b[0m\n\u001b[1;32m     66\u001b[0m maximum \u001b[38;5;241m=\u001b[39m \u001b[38;5;28mlist\u001b[39m(\u001b[38;5;28mmap\u001b[39m(\u001b[38;5;28mint\u001b[39m, maximum\u001b[38;5;241m.\u001b[39msplit(\u001b[38;5;124m'\u001b[39m\u001b[38;5;124m-\u001b[39m\u001b[38;5;124m'\u001b[39m, \u001b[38;5;241m1\u001b[39m)[\u001b[38;5;241m0\u001b[39m]\u001b[38;5;241m.\u001b[39msplit(\u001b[38;5;124m'\u001b[39m\u001b[38;5;124m.\u001b[39m\u001b[38;5;124m'\u001b[39m)))\n\u001b[1;32m     68\u001b[0m \u001b[38;5;28;01mif\u001b[39;00m minimum \u001b[38;5;241m>\u001b[39m version \u001b[38;5;129;01mor\u001b[39;00m version \u001b[38;5;241m>\u001b[39m\u001b[38;5;241m=\u001b[39m maximum:\n\u001b[0;32m---> 69\u001b[0m \t\u001b[38;5;28;01mraise\u001b[39;00m exceptions\u001b[38;5;241m.\u001b[39mVersionMismatch(version, minimum, maximum)\n\u001b[1;32m     71\u001b[0m \u001b[38;5;28;01mfor\u001b[39;00m blacklisted \u001b[38;5;129;01min\u001b[39;00m blacklist:\n\u001b[1;32m     72\u001b[0m \tblacklisted \u001b[38;5;241m=\u001b[39m \u001b[38;5;28mlist\u001b[39m(\u001b[38;5;28mmap\u001b[39m(\u001b[38;5;28mint\u001b[39m, blacklisted\u001b[38;5;241m.\u001b[39msplit(\u001b[38;5;124m'\u001b[39m\u001b[38;5;124m-\u001b[39m\u001b[38;5;124m'\u001b[39m, \u001b[38;5;241m1\u001b[39m)[\u001b[38;5;241m0\u001b[39m]\u001b[38;5;241m.\u001b[39msplit(\u001b[38;5;124m'\u001b[39m\u001b[38;5;124m.\u001b[39m\u001b[38;5;124m'\u001b[39m)))\n",
      "\u001b[0;31mVersionMismatch\u001b[0m: Unsupported daemon version '0.12.2' (not in range: 0.4.23 ≤ … < 0.8.0)"
     ]
    }
   ],
   "source": [
    "import ipfshttpclient\n",
    "client = ipfshttpclient.connect()"
   ]
  },
  {
   "cell_type": "code",
   "execution_count": 65,
   "id": "cb8f81f6",
   "metadata": {
    "scrolled": true
   },
   "outputs": [
    {
     "data": {
      "text/plain": [
       "<ipfshttpclient.client.base.ResponseBase: {'Objects': [{'Hash': 'bafybeidl4qbcooevs2d5lgmtp7nuu545em5zfiladdv2zh7cmbaqxcfhlq', 'Links': [{'Name': '261da449862bc9bc3579.worker.js', 'Hash': 'QmY6NpDbS5KjENw6VnMEMUUYtJX7gMnb39hyx6gFPxLZes', 'Size': 874513, 'Type': 2, 'Target': ''}, {'Name': '261da449862bc9bc3579.worker.js.map', 'Hash': 'QmbC3C36aFnsGdPmukyi42ABTXtJAhX4jihRVBgDVpYzRz', 'Size': 3050830, 'Type': 2, 'Target': ''}, {'Name': 'css', 'Hash': 'QmX6o3PdGr4BmDYpvVUmxahMGAPn8ZieM74zQVqHFee9EN', 'Size': 0, 'Type': 1, 'Target': ''}, {'Name': 'favicon.png', 'Hash': 'QmekPaKugY9Qs5GN3czLpsQtKmPTA3bMKHGwDxrSQHpS4r', 'Size': 4412, 'Type': 2, 'Target': ''}, {'Name': 'fonts', 'Hash': 'QmZM3nx6HBrejDQ99rs6sS91WbAio3T9qPNeffPsUGS718', 'Size': 0, 'Type': 1, 'Target': ''}, {'Name': 'img', 'Hash': 'Qmb7BXucSsR8fko5Gh78oYS1FMLeDQAwWWbFHihL9SgMkX', 'Size': 0, 'Type': 1, 'Target': ''}, {'Name': 'index.css', 'Hash': 'QmbMEoood4E4zLPYqAePQqSAWPLzoeY7KnAPkrbm7raS6P', 'Size': 355, 'Type': 2, 'Target': ''}, {'Name': 'index.html', 'Hash': 'QmVkcE3Zk8PDY1rD4HMCCCNQYBHLyto6kzMptTWaabmCPV', 'Size': 11649, 'Type': 2, 'Target': ''}, {'Name': 'js', 'Hash': 'QmbHLuSEoydLYjWHm3M9EyDTcsQKN4GrW9YEh5rTUP5Sdq', 'Size': 0, 'Type': 1, 'Target': ''}, {'Name': 'manifest.json', 'Hash': 'QmbifjPssR4wHpqhYjTyGwQBYAmbVRcGCiWCrWmHVdzPYu', 'Size': 559, 'Type': 2, 'Target': ''}, {'Name': 'precache-manifest.6af22ba3d987fd6a7d4d7f277c2605f2.js', 'Hash': 'QmUKyxamTjt4AAnaR2N6HE3W1XgPXL9JjygHak3bUpy1Mk', 'Size': 70791, 'Type': 2, 'Target': ''}, {'Name': 'robots.txt', 'Hash': 'QmURdei4Wpwvx39zn2r7MNC8H2bZ3u1Ssky2oS7fRebJNc', 'Size': 24, 'Type': 2, 'Target': ''}, {'Name': 'service-worker.js', 'Hash': 'QmTcwRsiLohyubFD5prE14rNhDQcD153Dxn2FYVz1zVsgg', 'Size': 1098, 'Type': 2, 'Target': ''}, {'Name': 'workbox-v4.3.1', 'Hash': 'QmaUxWJc4wR3CmueTSfbMjZGXQwVmp9FwCjcpDdPGNYvbm', 'Size': 0, 'Type': 1, 'Target': ''}]}]}>"
      ]
     },
     "execution_count": 65,
     "metadata": {},
     "output_type": "execute_result"
    }
   ],
   "source": [
    "client.ls(\"bafybeidl4qbcooevs2d5lgmtp7nuu545em5zfiladdv2zh7cmbaqxcfhlq\")"
   ]
  },
  {
   "cell_type": "code",
   "execution_count": 14,
   "id": "76b54c29",
   "metadata": {},
   "outputs": [],
   "source": [
    "client.get(\"QmVkcE3Zk8PDY1rD4HMCCCNQYBHLyto6kzMptTWaabmCPV\")"
   ]
  },
  {
   "cell_type": "code",
   "execution_count": 2,
   "id": "f00eedb1",
   "metadata": {},
   "outputs": [],
   "source": [
    "import pandas as pd"
   ]
  },
  {
   "cell_type": "code",
   "execution_count": 3,
   "id": "b01fbfcc",
   "metadata": {},
   "outputs": [],
   "source": [
    "df = pd.read_csv(\"../data/token_ipfs.csv\")"
   ]
  },
  {
   "cell_type": "code",
   "execution_count": null,
   "id": "198a8753",
   "metadata": {},
   "outputs": [
    {
     "name": "stdout",
     "output_type": "stream",
     "text": [
      "tokenId    1071880795973541057141399370378067904192056984...\n",
      "URI                           reseller-test-crypto123.crypto\n",
      "ipfs       0x033dc48b5db41ca62861643e19d2c411d9eb6d19750x...\n",
      "Name: 0, dtype: object\n",
      "invalid path \"0x033dc48b5db41ca62861643e19d2c411d9eb6d19750x033dc48b5db4ca62861643e9d2c411d9eb6d1975\": error while conversion: strconv.ParseInt: parsing \"000x033d\": invalid syntax\n",
      "\n",
      "tokenId    7038890872774855959670689152595020083461323394...\n",
      "URI                        reseller-test-livebraden-0.crypto\n",
      "ipfs          QmVaAtQbi3EtsfpKoLzALm6vXphdi2KjMgxEDKeGg6wHuK\n",
      "Name: 1, dtype: object\n",
      "list index out of range\n",
      "\n",
      "tokenId    1075015635250833676273063444143431592480541225...\n",
      "URI                                          paynowin.crypto\n",
      "ipfs          QmcZBmXaAfc37hbsH7cBQQk8XtDjGX9KdPR4MroS639R5k\n",
      "Name: 2, dtype: object\n",
      "\n",
      "tokenId    4395571941167554399358143237520545142646712999...\n",
      "URI                                         sexworker.crypto\n",
      "ipfs          QmcZBmXaAfc37hbsH7cBQQk8XtDjGX9KdPR4MroS639R5k\n",
      "Name: 3, dtype: object\n",
      "\n",
      "tokenId    1105553005206068555348947644984392929397822167...\n",
      "URI                                     visitingparis.crypto\n",
      "ipfs          QmcZBmXaAfc37hbsH7cBQQk8XtDjGX9KdPR4MroS639R5k\n",
      "Name: 4, dtype: object\n",
      "\n",
      "tokenId    1055839783436683076242919909226150543173686330...\n",
      "URI                                         bestautos.crypto\n",
      "ipfs          QmagzTBthMTps7D2M7orJoN2f4fuEHeokcx3hp84RNEuhX\n",
      "Name: 5, dtype: object\n",
      "ReadTimeout: HTTPConnectionPool(host='localhost', port=5001): Read timed out. (read timeout=60)\n",
      "\n",
      "tokenId    1033142434530173777466549071707574114640207234...\n",
      "URI                                          bloc8app.crypto\n",
      "ipfs          QmcZBmXaAfc37hbsH7cBQQk8XtDjGX9KdPR4MroS639R5k\n",
      "Name: 6, dtype: object\n",
      "\n",
      "tokenId    4619948048317290643931400546700002220889031105...\n",
      "URI                                    bestblockchain.crypto\n",
      "ipfs          QmcjCXwZjBM6nqVSP41n4ni5U13pYYKB6gDTYzRY3aRUYk\n",
      "Name: 7, dtype: object\n"
     ]
    }
   ],
   "source": [
    "TIMEOUT = 60\n",
    "for index, row in df.iterrows():\n",
    "#     print(row[\"tokenId\"], row[\"URI\"], row[\"ipfs\"])\n",
    "    try:\n",
    "        print(row)\n",
    "        directory = client.ls(row[\"ipfs\"], timeout=TIMEOUT)\n",
    "        directory = list(filter(lambda x:x[\"Name\"] == \"index.html\"  ,directory.as_json()[\"Objects\"][0][\"Links\"]))\n",
    "        cid = directory[0][\"Hash\"]\n",
    "        client.get(cid, timeout=TIMEOUT)                         \n",
    "    except Exception as e:\n",
    "        print(e)\n",
    "    input()"
   ]
  },
  {
   "cell_type": "code",
   "execution_count": 67,
   "id": "c13ea943",
   "metadata": {},
   "outputs": [],
   "source": [
    "r = client.ls(\"QmcZBmXaAfc37hbsH7cBQQk8XtDjGX9KdPR4MroS639R5k\")"
   ]
  },
  {
   "cell_type": "code",
   "execution_count": 71,
   "id": "7eef22b9",
   "metadata": {},
   "outputs": [
    {
     "data": {
      "text/plain": [
       "[{'Hash': 'QmcZBmXaAfc37hbsH7cBQQk8XtDjGX9KdPR4MroS639R5k',\n",
       "  'Links': [{'Name': 'assets',\n",
       "    'Hash': 'QmSgJUNrjXT6K5u8Hn9ZzEfT64fS1zF7GPKn4JAgEEfHJ3',\n",
       "    'Size': 0,\n",
       "    'Type': 1,\n",
       "    'Target': ''},\n",
       "   {'Name': 'avatar.png',\n",
       "    'Hash': 'QmfXv4iEG9uzhkGkmaUhsbpfLkyVXRxBu9todRKCMJNyTt',\n",
       "    'Size': 9295,\n",
       "    'Type': 2,\n",
       "    'Target': ''},\n",
       "   {'Name': 'index.html',\n",
       "    'Hash': 'QmVyNQSG8WZ4AGrYNMXBFFfuYLCijbC7RhhLU7FZZvSniG',\n",
       "    'Size': 4111,\n",
       "    'Type': 2,\n",
       "    'Target': ''},\n",
       "   {'Name': 'styles.css',\n",
       "    'Hash': 'QmdRSqEDMb2RZUzC7YJUVUwtdFj4wFmxRoUTC65zNUcPni',\n",
       "    'Size': 2158,\n",
       "    'Type': 2,\n",
       "    'Target': ''}]}]"
      ]
     },
     "execution_count": 71,
     "metadata": {},
     "output_type": "execute_result"
    }
   ],
   "source": [
    "r.as_json()[\"Objects\"]"
   ]
  },
  {
   "cell_type": "code",
   "execution_count": 68,
   "id": "f01e2473",
   "metadata": {},
   "outputs": [],
   "source": [
    "a = list(filter(lambda x:x[\"Name\"] == \"index.html\" ,r.as_json()[\"Objects\"][0][\"Links\"]))[]"
   ]
  },
  {
   "cell_type": "code",
   "execution_count": 73,
   "id": "d302b161",
   "metadata": {},
   "outputs": [
    {
     "data": {
      "text/plain": [
       "'QmVyNQSG8WZ4AGrYNMXBFFfuYLCijbC7RhhLU7FZZvSniG'"
      ]
     },
     "execution_count": 73,
     "metadata": {},
     "output_type": "execute_result"
    }
   ],
   "source": [
    "a[0][\"Hash\"]"
   ]
  },
  {
   "cell_type": "code",
   "execution_count": 74,
   "id": "e8f905d9",
   "metadata": {},
   "outputs": [],
   "source": [
    "client.get(a[0][\"bHash\"])"
   ]
  },
  {
   "cell_type": "code",
   "execution_count": 2,
   "id": "1477d9f9",
   "metadata": {},
   "outputs": [],
   "source": [
    "import pandas as pd"
   ]
  },
  {
   "cell_type": "code",
   "execution_count": 3,
   "id": "a3c0d0cb",
   "metadata": {},
   "outputs": [],
   "source": [
    "df = pd.read_csv(\"../data/token_ipfs.csv\")"
   ]
  },
  {
   "cell_type": "code",
   "execution_count": 4,
   "id": "1f8e660e",
   "metadata": {},
   "outputs": [
    {
     "data": {
      "text/html": [
       "<div>\n",
       "<style scoped>\n",
       "    .dataframe tbody tr th:only-of-type {\n",
       "        vertical-align: middle;\n",
       "    }\n",
       "\n",
       "    .dataframe tbody tr th {\n",
       "        vertical-align: top;\n",
       "    }\n",
       "\n",
       "    .dataframe thead th {\n",
       "        text-align: right;\n",
       "    }\n",
       "</style>\n",
       "<table border=\"1\" class=\"dataframe\">\n",
       "  <thead>\n",
       "    <tr style=\"text-align: right;\">\n",
       "      <th></th>\n",
       "      <th>tokenId</th>\n",
       "      <th>URI</th>\n",
       "      <th>ipfs</th>\n",
       "    </tr>\n",
       "  </thead>\n",
       "  <tbody>\n",
       "    <tr>\n",
       "      <th>0</th>\n",
       "      <td>1071880795973541057141399370378067904192056984...</td>\n",
       "      <td>reseller-test-crypto123.crypto</td>\n",
       "      <td>0x033dc48b5db41ca62861643e19d2c411d9eb6d19750x...</td>\n",
       "    </tr>\n",
       "    <tr>\n",
       "      <th>1</th>\n",
       "      <td>7038890872774855959670689152595020083461323394...</td>\n",
       "      <td>reseller-test-livebraden-0.crypto</td>\n",
       "      <td>QmVaAtQbi3EtsfpKoLzALm6vXphdi2KjMgxEDKeGg6wHuK</td>\n",
       "    </tr>\n",
       "    <tr>\n",
       "      <th>2</th>\n",
       "      <td>1075015635250833676273063444143431592480541225...</td>\n",
       "      <td>paynowin.crypto</td>\n",
       "      <td>QmcZBmXaAfc37hbsH7cBQQk8XtDjGX9KdPR4MroS639R5k</td>\n",
       "    </tr>\n",
       "    <tr>\n",
       "      <th>3</th>\n",
       "      <td>4395571941167554399358143237520545142646712999...</td>\n",
       "      <td>sexworker.crypto</td>\n",
       "      <td>QmcZBmXaAfc37hbsH7cBQQk8XtDjGX9KdPR4MroS639R5k</td>\n",
       "    </tr>\n",
       "    <tr>\n",
       "      <th>4</th>\n",
       "      <td>1105553005206068555348947644984392929397822167...</td>\n",
       "      <td>visitingparis.crypto</td>\n",
       "      <td>QmcZBmXaAfc37hbsH7cBQQk8XtDjGX9KdPR4MroS639R5k</td>\n",
       "    </tr>\n",
       "    <tr>\n",
       "      <th>...</th>\n",
       "      <td>...</td>\n",
       "      <td>...</td>\n",
       "      <td>...</td>\n",
       "    </tr>\n",
       "    <tr>\n",
       "      <th>33593</th>\n",
       "      <td>4642088503222167977846700451268940749989986632...</td>\n",
       "      <td>hermetic-world.crypto</td>\n",
       "      <td>QmaowABqHvsvG42YQqBfzfbFef9e3MJQe7YtmQTyv1PTEw</td>\n",
       "    </tr>\n",
       "    <tr>\n",
       "      <th>33594</th>\n",
       "      <td>8906468363880196410200798306388772927972074775...</td>\n",
       "      <td>marcoleder.crypto</td>\n",
       "      <td>QmdJYR2bqNtKWFRfUFCuX3noJPGD81War6eYTrKZKwNygW</td>\n",
       "    </tr>\n",
       "    <tr>\n",
       "      <th>33595</th>\n",
       "      <td>1144937644145846909933568034123064804117518833...</td>\n",
       "      <td>ishangoyal.crypto</td>\n",
       "      <td>QmeQSVBgxkRTqQyvz6Y9pnqLLbrLCVPhfMNk2HTYXUvX6S</td>\n",
       "    </tr>\n",
       "    <tr>\n",
       "      <th>33596</th>\n",
       "      <td>3731415868881653292910267267591270001645327758...</td>\n",
       "      <td>playboymeech.crypto</td>\n",
       "      <td>QmVfF8w4AcLPrr85ibzGHDNwqByQTXNp1FNhUMEMHbeZPX</td>\n",
       "    </tr>\n",
       "    <tr>\n",
       "      <th>33597</th>\n",
       "      <td>3331856407552202797280884779994431379095955865...</td>\n",
       "      <td>tacoin.crypto</td>\n",
       "      <td>QmcGhcXvycC7R6AWSbanYM6FuzvnvaAfEyroyyqjoMW93f</td>\n",
       "    </tr>\n",
       "  </tbody>\n",
       "</table>\n",
       "<p>33598 rows × 3 columns</p>\n",
       "</div>"
      ],
      "text/plain": [
       "                                                 tokenId  \\\n",
       "0      1071880795973541057141399370378067904192056984...   \n",
       "1      7038890872774855959670689152595020083461323394...   \n",
       "2      1075015635250833676273063444143431592480541225...   \n",
       "3      4395571941167554399358143237520545142646712999...   \n",
       "4      1105553005206068555348947644984392929397822167...   \n",
       "...                                                  ...   \n",
       "33593  4642088503222167977846700451268940749989986632...   \n",
       "33594  8906468363880196410200798306388772927972074775...   \n",
       "33595  1144937644145846909933568034123064804117518833...   \n",
       "33596  3731415868881653292910267267591270001645327758...   \n",
       "33597  3331856407552202797280884779994431379095955865...   \n",
       "\n",
       "                                     URI  \\\n",
       "0         reseller-test-crypto123.crypto   \n",
       "1      reseller-test-livebraden-0.crypto   \n",
       "2                        paynowin.crypto   \n",
       "3                       sexworker.crypto   \n",
       "4                   visitingparis.crypto   \n",
       "...                                  ...   \n",
       "33593              hermetic-world.crypto   \n",
       "33594                  marcoleder.crypto   \n",
       "33595                  ishangoyal.crypto   \n",
       "33596                playboymeech.crypto   \n",
       "33597                      tacoin.crypto   \n",
       "\n",
       "                                                    ipfs  \n",
       "0      0x033dc48b5db41ca62861643e19d2c411d9eb6d19750x...  \n",
       "1         QmVaAtQbi3EtsfpKoLzALm6vXphdi2KjMgxEDKeGg6wHuK  \n",
       "2         QmcZBmXaAfc37hbsH7cBQQk8XtDjGX9KdPR4MroS639R5k  \n",
       "3         QmcZBmXaAfc37hbsH7cBQQk8XtDjGX9KdPR4MroS639R5k  \n",
       "4         QmcZBmXaAfc37hbsH7cBQQk8XtDjGX9KdPR4MroS639R5k  \n",
       "...                                                  ...  \n",
       "33593     QmaowABqHvsvG42YQqBfzfbFef9e3MJQe7YtmQTyv1PTEw  \n",
       "33594     QmdJYR2bqNtKWFRfUFCuX3noJPGD81War6eYTrKZKwNygW  \n",
       "33595     QmeQSVBgxkRTqQyvz6Y9pnqLLbrLCVPhfMNk2HTYXUvX6S  \n",
       "33596     QmVfF8w4AcLPrr85ibzGHDNwqByQTXNp1FNhUMEMHbeZPX  \n",
       "33597     QmcGhcXvycC7R6AWSbanYM6FuzvnvaAfEyroyyqjoMW93f  \n",
       "\n",
       "[33598 rows x 3 columns]"
      ]
     },
     "execution_count": 4,
     "metadata": {},
     "output_type": "execute_result"
    }
   ],
   "source": [
    "df"
   ]
  }
 ],
 "metadata": {
  "hide_input": false,
  "kernelspec": {
   "display_name": "Python 3 (ipykernel)",
   "language": "python",
   "name": "python3"
  },
  "language_info": {
   "codemirror_mode": {
    "name": "ipython",
    "version": 3
   },
   "file_extension": ".py",
   "mimetype": "text/x-python",
   "name": "python",
   "nbconvert_exporter": "python",
   "pygments_lexer": "ipython3",
   "version": "3.9.7"
  }
 },
 "nbformat": 4,
 "nbformat_minor": 5
}
