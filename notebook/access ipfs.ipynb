{
 "cells": [
  {
   "cell_type": "code",
   "execution_count": 64,
   "id": "c0c2d24f",
   "metadata": {},
   "outputs": [],
   "source": [
    "import ipfshttpclient\n",
    "client = ipfshttpclient.connect()"
   ]
  },
  {
   "cell_type": "code",
   "execution_count": 65,
   "id": "cb8f81f6",
   "metadata": {
    "scrolled": true
   },
   "outputs": [
    {
     "data": {
      "text/plain": [
       "<ipfshttpclient.client.base.ResponseBase: {'Objects': [{'Hash': 'bafybeidl4qbcooevs2d5lgmtp7nuu545em5zfiladdv2zh7cmbaqxcfhlq', 'Links': [{'Name': '261da449862bc9bc3579.worker.js', 'Hash': 'QmY6NpDbS5KjENw6VnMEMUUYtJX7gMnb39hyx6gFPxLZes', 'Size': 874513, 'Type': 2, 'Target': ''}, {'Name': '261da449862bc9bc3579.worker.js.map', 'Hash': 'QmbC3C36aFnsGdPmukyi42ABTXtJAhX4jihRVBgDVpYzRz', 'Size': 3050830, 'Type': 2, 'Target': ''}, {'Name': 'css', 'Hash': 'QmX6o3PdGr4BmDYpvVUmxahMGAPn8ZieM74zQVqHFee9EN', 'Size': 0, 'Type': 1, 'Target': ''}, {'Name': 'favicon.png', 'Hash': 'QmekPaKugY9Qs5GN3czLpsQtKmPTA3bMKHGwDxrSQHpS4r', 'Size': 4412, 'Type': 2, 'Target': ''}, {'Name': 'fonts', 'Hash': 'QmZM3nx6HBrejDQ99rs6sS91WbAio3T9qPNeffPsUGS718', 'Size': 0, 'Type': 1, 'Target': ''}, {'Name': 'img', 'Hash': 'Qmb7BXucSsR8fko5Gh78oYS1FMLeDQAwWWbFHihL9SgMkX', 'Size': 0, 'Type': 1, 'Target': ''}, {'Name': 'index.css', 'Hash': 'QmbMEoood4E4zLPYqAePQqSAWPLzoeY7KnAPkrbm7raS6P', 'Size': 355, 'Type': 2, 'Target': ''}, {'Name': 'index.html', 'Hash': 'QmVkcE3Zk8PDY1rD4HMCCCNQYBHLyto6kzMptTWaabmCPV', 'Size': 11649, 'Type': 2, 'Target': ''}, {'Name': 'js', 'Hash': 'QmbHLuSEoydLYjWHm3M9EyDTcsQKN4GrW9YEh5rTUP5Sdq', 'Size': 0, 'Type': 1, 'Target': ''}, {'Name': 'manifest.json', 'Hash': 'QmbifjPssR4wHpqhYjTyGwQBYAmbVRcGCiWCrWmHVdzPYu', 'Size': 559, 'Type': 2, 'Target': ''}, {'Name': 'precache-manifest.6af22ba3d987fd6a7d4d7f277c2605f2.js', 'Hash': 'QmUKyxamTjt4AAnaR2N6HE3W1XgPXL9JjygHak3bUpy1Mk', 'Size': 70791, 'Type': 2, 'Target': ''}, {'Name': 'robots.txt', 'Hash': 'QmURdei4Wpwvx39zn2r7MNC8H2bZ3u1Ssky2oS7fRebJNc', 'Size': 24, 'Type': 2, 'Target': ''}, {'Name': 'service-worker.js', 'Hash': 'QmTcwRsiLohyubFD5prE14rNhDQcD153Dxn2FYVz1zVsgg', 'Size': 1098, 'Type': 2, 'Target': ''}, {'Name': 'workbox-v4.3.1', 'Hash': 'QmaUxWJc4wR3CmueTSfbMjZGXQwVmp9FwCjcpDdPGNYvbm', 'Size': 0, 'Type': 1, 'Target': ''}]}]}>"
      ]
     },
     "execution_count": 65,
     "metadata": {},
     "output_type": "execute_result"
    }
   ],
   "source": [
    "client.ls(\"bafybeidl4qbcooevs2d5lgmtp7nuu545em5zfiladdv2zh7cmbaqxcfhlq\")"
   ]
  },
  {
   "cell_type": "code",
   "execution_count": 14,
   "id": "76b54c29",
   "metadata": {},
   "outputs": [],
   "source": [
    "client.get(\"QmVkcE3Zk8PDY1rD4HMCCCNQYBHLyto6kzMptTWaabmCPV\")"
   ]
  },
  {
   "cell_type": "code",
   "execution_count": 2,
   "id": "f00eedb1",
   "metadata": {},
   "outputs": [],
   "source": [
    "import pandas as pd"
   ]
  },
  {
   "cell_type": "code",
   "execution_count": 3,
   "id": "b01fbfcc",
   "metadata": {},
   "outputs": [],
   "source": [
    "df = pd.read_csv(\"../data/token_ipfs.csv\")"
   ]
  },
  {
   "cell_type": "code",
   "execution_count": null,
   "id": "198a8753",
   "metadata": {},
   "outputs": [
    {
     "name": "stdout",
     "output_type": "stream",
     "text": [
      "tokenId    1071880795973541057141399370378067904192056984...\n",
      "URI                           reseller-test-crypto123.crypto\n",
      "ipfs       0x033dc48b5db41ca62861643e19d2c411d9eb6d19750x...\n",
      "Name: 0, dtype: object\n",
      "invalid path \"0x033dc48b5db41ca62861643e19d2c411d9eb6d19750x033dc48b5db4ca62861643e9d2c411d9eb6d1975\": error while conversion: strconv.ParseInt: parsing \"000x033d\": invalid syntax\n",
      "\n",
      "tokenId    7038890872774855959670689152595020083461323394...\n",
      "URI                        reseller-test-livebraden-0.crypto\n",
      "ipfs          QmVaAtQbi3EtsfpKoLzALm6vXphdi2KjMgxEDKeGg6wHuK\n",
      "Name: 1, dtype: object\n",
      "list index out of range\n",
      "\n",
      "tokenId    1075015635250833676273063444143431592480541225...\n",
      "URI                                          paynowin.crypto\n",
      "ipfs          QmcZBmXaAfc37hbsH7cBQQk8XtDjGX9KdPR4MroS639R5k\n",
      "Name: 2, dtype: object\n",
      "\n",
      "tokenId    4395571941167554399358143237520545142646712999...\n",
      "URI                                         sexworker.crypto\n",
      "ipfs          QmcZBmXaAfc37hbsH7cBQQk8XtDjGX9KdPR4MroS639R5k\n",
      "Name: 3, dtype: object\n",
      "\n",
      "tokenId    1105553005206068555348947644984392929397822167...\n",
      "URI                                     visitingparis.crypto\n",
      "ipfs          QmcZBmXaAfc37hbsH7cBQQk8XtDjGX9KdPR4MroS639R5k\n",
      "Name: 4, dtype: object\n",
      "\n",
      "tokenId    1055839783436683076242919909226150543173686330...\n",
      "URI                                         bestautos.crypto\n",
      "ipfs          QmagzTBthMTps7D2M7orJoN2f4fuEHeokcx3hp84RNEuhX\n",
      "Name: 5, dtype: object\n",
      "ReadTimeout: HTTPConnectionPool(host='localhost', port=5001): Read timed out. (read timeout=60)\n",
      "\n",
      "tokenId    1033142434530173777466549071707574114640207234...\n",
      "URI                                          bloc8app.crypto\n",
      "ipfs          QmcZBmXaAfc37hbsH7cBQQk8XtDjGX9KdPR4MroS639R5k\n",
      "Name: 6, dtype: object\n",
      "\n",
      "tokenId    4619948048317290643931400546700002220889031105...\n",
      "URI                                    bestblockchain.crypto\n",
      "ipfs          QmcjCXwZjBM6nqVSP41n4ni5U13pYYKB6gDTYzRY3aRUYk\n",
      "Name: 7, dtype: object\n"
     ]
    }
   ],
   "source": [
    "TIMEOUT = 60\n",
    "for index, row in df.iterrows():\n",
    "#     print(row[\"tokenId\"], row[\"URI\"], row[\"ipfs\"])\n",
    "    try:\n",
    "        print(row)\n",
    "        directory = client.ls(row[\"ipfs\"], timeout=TIMEOUT)\n",
    "        directory = list(filter(lambda x:x[\"Name\"] == \"index.html\"  ,directory.as_json()[\"Objects\"][0][\"Links\"]))\n",
    "        cid = directory[0][\"Hash\"]\n",
    "        client.get(cid, timeout=TIMEOUT)                         \n",
    "    except Exception as e:\n",
    "        print(e)\n",
    "    input()"
   ]
  },
  {
   "cell_type": "code",
   "execution_count": 67,
   "id": "c13ea943",
   "metadata": {},
   "outputs": [],
   "source": [
    "r = client.ls(\"QmcZBmXaAfc37hbsH7cBQQk8XtDjGX9KdPR4MroS639R5k\")"
   ]
  },
  {
   "cell_type": "code",
   "execution_count": 71,
   "id": "7eef22b9",
   "metadata": {},
   "outputs": [
    {
     "data": {
      "text/plain": [
       "[{'Hash': 'QmcZBmXaAfc37hbsH7cBQQk8XtDjGX9KdPR4MroS639R5k',\n",
       "  'Links': [{'Name': 'assets',\n",
       "    'Hash': 'QmSgJUNrjXT6K5u8Hn9ZzEfT64fS1zF7GPKn4JAgEEfHJ3',\n",
       "    'Size': 0,\n",
       "    'Type': 1,\n",
       "    'Target': ''},\n",
       "   {'Name': 'avatar.png',\n",
       "    'Hash': 'QmfXv4iEG9uzhkGkmaUhsbpfLkyVXRxBu9todRKCMJNyTt',\n",
       "    'Size': 9295,\n",
       "    'Type': 2,\n",
       "    'Target': ''},\n",
       "   {'Name': 'index.html',\n",
       "    'Hash': 'QmVyNQSG8WZ4AGrYNMXBFFfuYLCijbC7RhhLU7FZZvSniG',\n",
       "    'Size': 4111,\n",
       "    'Type': 2,\n",
       "    'Target': ''},\n",
       "   {'Name': 'styles.css',\n",
       "    'Hash': 'QmdRSqEDMb2RZUzC7YJUVUwtdFj4wFmxRoUTC65zNUcPni',\n",
       "    'Size': 2158,\n",
       "    'Type': 2,\n",
       "    'Target': ''}]}]"
      ]
     },
     "execution_count": 71,
     "metadata": {},
     "output_type": "execute_result"
    }
   ],
   "source": [
    "r.as_json()[\"Objects\"]"
   ]
  },
  {
   "cell_type": "code",
   "execution_count": 68,
   "id": "f01e2473",
   "metadata": {},
   "outputs": [],
   "source": [
    "a = list(filter(lambda x:x[\"Name\"] == \"index.html\" ,r.as_json()[\"Objects\"][0][\"Links\"]))[]"
   ]
  },
  {
   "cell_type": "code",
   "execution_count": 73,
   "id": "d302b161",
   "metadata": {},
   "outputs": [
    {
     "data": {
      "text/plain": [
       "'QmVyNQSG8WZ4AGrYNMXBFFfuYLCijbC7RhhLU7FZZvSniG'"
      ]
     },
     "execution_count": 73,
     "metadata": {},
     "output_type": "execute_result"
    }
   ],
   "source": [
    "a[0][\"Hash\"]"
   ]
  },
  {
   "cell_type": "code",
   "execution_count": 74,
   "id": "e8f905d9",
   "metadata": {},
   "outputs": [],
   "source": [
    "client.get(a[0][\"Hash\"])"
   ]
  }
 ],
 "metadata": {
  "hide_input": false,
  "kernelspec": {
   "display_name": "Python 3 (ipykernel)",
   "language": "python",
   "name": "python3"
  },
  "language_info": {
   "codemirror_mode": {
    "name": "ipython",
    "version": 3
   },
   "file_extension": ".py",
   "mimetype": "text/x-python",
   "name": "python",
   "nbconvert_exporter": "python",
   "pygments_lexer": "ipython3",
   "version": "3.9.7"
  }
 },
 "nbformat": 4,
 "nbformat_minor": 5
}
